{
 "cells": [
  {
   "cell_type": "markdown",
   "id": "02b4f02e",
   "metadata": {},
   "source": [
    "# Indexing in detail"
   ]
  },
  {
   "cell_type": "code",
   "execution_count": null,
   "id": "fca73575",
   "metadata": {},
   "outputs": [],
   "source": [
    "# +ve step size\n",
    "# 1.Default lowwr bound = 0\n",
    "# 2.Default upper bound = n\n",
    "# 3. Upper bound>Lower bound (else empty value)\n",
    "# 4.Left to Right = Output"
   ]
  },
  {
   "cell_type": "code",
   "execution_count": 1,
   "id": "1595d8bb",
   "metadata": {},
   "outputs": [
    {
     "name": "stdout",
     "output_type": "stream",
     "text": [
      "[120, 110, 99, 89, 70, 56, 45, 34, 23]\n"
     ]
    }
   ],
   "source": [
    "#For reverse\n",
    "popu=[23,34,45,56,70,89,99,110,120]\n",
    "popu_des=popu[ : :-1]\n",
    "print(popu_des)"
   ]
  },
  {
   "cell_type": "code",
   "execution_count": null,
   "id": "d7fe1a81",
   "metadata": {},
   "outputs": [],
   "source": [
    "# -ve step size\n",
    "# 1.Default lower bound = -1\n",
    "# 2.Upper bound<Lower bound (else empty value)\n",
    "# 3.If upper bound and lower bound are of different sign then firstly bring them to a common sign.\n",
    "# 4.Right to Left = output"
   ]
  },
  {
   "cell_type": "code",
   "execution_count": 2,
   "id": "8d1be9c2",
   "metadata": {},
   "outputs": [
    {
     "name": "stdout",
     "output_type": "stream",
     "text": [
      "\n",
      "mocl\n"
     ]
    }
   ],
   "source": [
    "s=\"welcome\"\n",
    "print(s[-5:4:-1]) #output will be empty string \n",
    "print(s[-2:1:-1]) #output will be mocl (bring -2 to +ve sign for common sign and -2 will be 5)"
   ]
  },
  {
   "cell_type": "code",
   "execution_count": null,
   "id": "809a9b60",
   "metadata": {},
   "outputs": [],
   "source": [
    "# Final summary \n",
    "# *After adding size in lower bound if we are approaching towards upper bound then we will get output."
   ]
  },
  {
   "cell_type": "code",
   "execution_count": 3,
   "id": "836c17e1",
   "metadata": {},
   "outputs": [
    {
     "name": "stdout",
     "output_type": "stream",
     "text": [
      "SONU\n",
      "SONU PRAKASH\n"
     ]
    }
   ],
   "source": [
    "#update the list\n",
    "L1 = [\"RAM\", \"ANIL\", \"VIKAS\", \"SONU\"]\n",
    "print(L1[-1])\n",
    "L1[-1] = \"SONU PRAKASH\"  #updated\n",
    "print(L1[-1])"
   ]
  },
  {
   "cell_type": "markdown",
   "id": "22a38fbb",
   "metadata": {},
   "source": [
    "# OPERATORS ( 7 wonders of python)"
   ]
  },
  {
   "cell_type": "code",
   "execution_count": null,
   "id": "e7385d80",
   "metadata": {},
   "outputs": [],
   "source": [
    "# There are 7 operators \n",
    "# 1.Arithmetic operator\n",
    "# 2.Logical operator\n",
    "# 3.Conditional operator\n",
    "# 4.Bitwise operator\n",
    "# 5.Assignment Operator \n",
    "# 6.Identity operator\n",
    "# 7.Membership operator"
   ]
  },
  {
   "cell_type": "code",
   "execution_count": 8,
   "id": "b1adc90a",
   "metadata": {},
   "outputs": [
    {
     "name": "stdout",
     "output_type": "stream",
     "text": [
      "9\n",
      "1\n",
      "20\n",
      "1.25\n",
      "1\n",
      "625\n",
      "1\n"
     ]
    }
   ],
   "source": [
    "# 1.ARITHMETIC OPERATOR\n",
    "\n",
    "# + : Addition\n",
    "# - : Subtraction\n",
    "# * : Multiplication\n",
    "# / : Division\n",
    "# % : Modulus/remainder\n",
    "# ** : Power\n",
    "# // : Floor division(nearest smaller quotient as whole number)\n",
    "\n",
    "a,b=5,4\n",
    "print(a+b)\n",
    "print(a-b)\n",
    "print(a*b)\n",
    "print(a/b)  #In python division of two integer will always give float\n",
    "print(a%b)\n",
    "print(a**b)\n",
    "print(a//b)"
   ]
  },
  {
   "cell_type": "code",
   "execution_count": 10,
   "id": "8a662aed",
   "metadata": {},
   "outputs": [
    {
     "name": "stdout",
     "output_type": "stream",
     "text": [
      "False\n",
      "True\n",
      "False\n",
      "True\n",
      "False\n",
      "True\n"
     ]
    }
   ],
   "source": [
    "# 2.CONDITIONAL OPERATOR\n",
    "# == : Equals to\n",
    "# != : Not equals to\n",
    "# > : Greater then\n",
    "# < : Less then\n",
    "# >= : Greater then equals to\n",
    "# <= : Less then equals to\n",
    "#  RETURNS TRUE OR FALSE   \n",
    "\n",
    "a,b=5,7\n",
    "print(a==b)\n",
    "print(a!=b)\n",
    "print(a>b)\n",
    "print(a<b)\n",
    "print(a>=b)\n",
    "print(a<=b)"
   ]
  },
  {
   "cell_type": "code",
   "execution_count": 13,
   "id": "4bb05cef",
   "metadata": {},
   "outputs": [
    {
     "name": "stdout",
     "output_type": "stream",
     "text": [
      "True\n",
      "True\n"
     ]
    }
   ],
   "source": [
    "# 3.LOGICAL OPERATORS\n",
    "# and : If both inputs are true then only outpu will be true else false.\n",
    "# or : If one of the inputs is true then output will be true else false.    \n",
    "# not : Reverse the input if input is true then output will be false and vice versa.    \n",
    "\n",
    "a,b = 2,3\n",
    "print(a>3 or b<=3)\n",
    "print(a<3 and b<=3)"
   ]
  }
 ],
 "metadata": {
  "kernelspec": {
   "display_name": "Python 3 (ipykernel)",
   "language": "python",
   "name": "python3"
  },
  "language_info": {
   "codemirror_mode": {
    "name": "ipython",
    "version": 3
   },
   "file_extension": ".py",
   "mimetype": "text/x-python",
   "name": "python",
   "nbconvert_exporter": "python",
   "pygments_lexer": "ipython3",
   "version": "3.9.7"
  }
 },
 "nbformat": 4,
 "nbformat_minor": 5
}
