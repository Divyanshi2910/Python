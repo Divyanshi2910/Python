{
 "cells": [
  {
   "cell_type": "markdown",
   "id": "cfd54cc8",
   "metadata": {},
   "source": [
    "# FUNCTIONS "
   ]
  },
  {
   "cell_type": "code",
   "execution_count": null,
   "id": "a7f7c58a",
   "metadata": {},
   "outputs": [],
   "source": [
    "# Block of code generally designed to perform specific task are Functions.\n",
    "\n",
    "# WHY FUNCTIONS\n",
    "# --> Code reusable\n",
    "# --> Functions are the basic building block of modular approach of programming.  - Modular approach means dividing \n",
    "#                                                                                  your programs into small modules.\n",
    "# --> Functions are basic building blocks of layered architecture.\n",
    "# --> Functions are also the basic building blocks of multi threading.\n",
    "# --> Scalable code: Easily modifications available."
   ]
  },
  {
   "cell_type": "code",
   "execution_count": null,
   "id": "5958f0cb",
   "metadata": {},
   "outputs": [],
   "source": [
    "# USER DEFINED FUNCTIONS\n",
    "\n",
    "# 1.Syantax--To create a function\n",
    "\n",
    "# def function_name(arguments):      :arguments are formal parameters\n",
    "#     Block of code\n",
    "#     return argument (optional)\n",
    "\n",
    "# 2.Syantax--To call a function\n",
    "\n",
    "# function_name(arguments):          :Arguments are actual parameters"
   ]
  },
  {
   "cell_type": "code",
   "execution_count": null,
   "id": "349044c2",
   "metadata": {},
   "outputs": [],
   "source": [
    "# KEYWORD--predefined words example-if, elif, else, def\n",
    "# IDENTIFIERS--user defined words example-Variable name, class name, function name \n",
    "\n",
    "\n",
    "# RULES OF IDENTIFIERS--\n",
    "# 1.Valid identifiers : Can be a collection of\n",
    "#   --english alphabets (a to z and A to Z)\n",
    "#   --numbers (0 to 9)\n",
    "#   --special symbol (only underscore)\n",
    "\n",
    "# 2.Invalid identifiers\n",
    "#   --First character should not start with number\n",
    "#   --No other special symbol allowed other than underscore\n",
    "#   --Keywords can be used as identifiers\n",
    "    \n",
    "# EXAMPLES   \n",
    "# 1. a42_=8     valid identifier\n",
    "#    print(a42_)\n",
    "\n",
    "# 2. vikas = 8  valid identifier\n",
    "#    print(vikas)\n",
    "\n",
    "# 3. vikas kalra = 8\n",
    "#    print(vikas kalra)  Invalid identifier(because of space)\n",
    "    \n",
    "# --Python is a case sensitive language\n",
    "   \n",
    "# a=5   \n",
    "# A=8 \n",
    "# print(a,A)  O/P = 5 8 "
   ]
  },
  {
   "cell_type": "code",
   "execution_count": null,
   "id": "8c20334e",
   "metadata": {},
   "outputs": [],
   "source": [
    "# LAYERED ARCHITECTURE\n",
    "# At top there are different types of layers in the program. The most popular two types of layers in layered architecture at\n",
    "# top level are :\n",
    "    \n",
    "#     1.Presentation layer--> Responsible for user interaction\n",
    "#     2.Business Logic Layer--> Responsible for the implementation of the actual functionality of the code and is responsible \n",
    "#                               for writing the business logic"
   ]
  },
  {
   "cell_type": "code",
   "execution_count": 1,
   "id": "01dd711d",
   "metadata": {},
   "outputs": [
    {
     "name": "stdout",
     "output_type": "stream",
     "text": [
      "12\n"
     ]
    }
   ],
   "source": [
    "#WAP to add two numbers with the help of function\n",
    "\n",
    "def add(a,b):\n",
    "    s = a+b\n",
    "    return s\n",
    "a,b = 5,7\n",
    "r=add(a,b)\n",
    "print(r)"
   ]
  },
  {
   "cell_type": "code",
   "execution_count": 2,
   "id": "e47ca9d7",
   "metadata": {},
   "outputs": [
    {
     "name": "stdout",
     "output_type": "stream",
     "text": [
      "8\n",
      "16\n"
     ]
    }
   ],
   "source": [
    "#New program\n",
    "\n",
    "def add(u,v):\n",
    "    s = u+v\n",
    "    return s\n",
    "a,b,c,d = 3,5,7,9\n",
    "r1 = add(a,b)\n",
    "print(r1)\n",
    "r2 = add(c,d)\n",
    "print(r2)"
   ]
  },
  {
   "cell_type": "code",
   "execution_count": 6,
   "id": "b5d47601",
   "metadata": {},
   "outputs": [
    {
     "name": "stdout",
     "output_type": "stream",
     "text": [
      "None\n",
      "<class 'NoneType'>\n",
      "welcome\n",
      "None\n",
      "divyanshi\n",
      "None\n"
     ]
    }
   ],
   "source": [
    "#The functions which do not return any value, then they by default return NONE value.\n",
    "#Examples\n",
    "\n",
    "def myfunc(a,b):\n",
    "    s = a+b\n",
    "r = myfunc(5,7)\n",
    "print(r)\n",
    "print(type(r))\n",
    "\n",
    "a = print(\"welcome\")\n",
    "print(a)\n",
    "\n",
    "print(print(\"divyanshi\"))"
   ]
  },
  {
   "cell_type": "code",
   "execution_count": 7,
   "id": "110208d2",
   "metadata": {},
   "outputs": [
    {
     "name": "stdout",
     "output_type": "stream",
     "text": [
      "12\n",
      "-2\n"
     ]
    }
   ],
   "source": [
    "#We can pass function inside function\n",
    "\n",
    "def add(a,b):\n",
    "    return a+b\n",
    "def sub(a,b):\n",
    "    return a-b\n",
    "a,b = 5,7\n",
    "print(add(a,b))\n",
    "print(sub(a,b))"
   ]
  },
  {
   "cell_type": "code",
   "execution_count": 8,
   "id": "eac21712",
   "metadata": {},
   "outputs": [
    {
     "name": "stdout",
     "output_type": "stream",
     "text": [
      "Enter first no.5\n",
      "Enter second no.7\n",
      "Result: 12\n"
     ]
    }
   ],
   "source": [
    "#Examples of Layered function\n",
    "\n",
    "#BLL--> Business Logic Layer\n",
    "def add(a,b):\n",
    "    r = a+b\n",
    "    return r\n",
    "#Presentation Layer\n",
    "no1 = int(input(\"Enter first no.\"))\n",
    "no2 = int(input(\"Enter second no.\"))\n",
    "res = add(no1,no2)\n",
    "print(\"Result:\",res)"
   ]
  },
  {
   "cell_type": "code",
   "execution_count": null,
   "id": "a1bb81ca",
   "metadata": {},
   "outputs": [],
   "source": [
    "s# NOTE:\n",
    "#     1.Functions are never executed on its own.\n",
    "#     2.Functions are always executed once they are called.\n",
    "#       i.e function body executes once we call but functions definition created its own."
   ]
  }
 ],
 "metadata": {
  "kernelspec": {
   "display_name": "Python 3 (ipykernel)",
   "language": "python",
   "name": "python3"
  },
  "language_info": {
   "codemirror_mode": {
    "name": "ipython",
    "version": 3
   },
   "file_extension": ".py",
   "mimetype": "text/x-python",
   "name": "python",
   "nbconvert_exporter": "python",
   "pygments_lexer": "ipython3",
   "version": "3.9.7"
  }
 },
 "nbformat": 4,
 "nbformat_minor": 5
}
