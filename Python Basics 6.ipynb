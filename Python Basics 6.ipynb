{
 "cells": [
  {
   "cell_type": "code",
   "execution_count": null,
   "id": "d9614f76",
   "metadata": {},
   "outputs": [],
   "source": [
    "# Scientific Calculator\n",
    "\n",
    "import operator\n",
    "import math\n",
    "while(1):\n",
    "    no1 = int(input(\"Enter the first number \"))\n",
    "    no2 = int(input(\"Enter the second number\"))\n",
    "    choice = input(\"Enter the choice +, -, *, /, pow, log: \")\n",
    "    if(choice==\"+\"):\n",
    "        res = no1+no2\n",
    "        print(res)\n",
    "    elif(choice==\"-\"):\n",
    "        res = no1-no2\n",
    "        print(res)\n",
    "    elif(choice==\"*\"):\n",
    "        res = no1*no2\n",
    "        print(res)\n",
    "    elif(choice==\"/\"):\n",
    "        res = no1/no2\n",
    "        print(res)\n",
    "    elif(choice==\"pow\"):\n",
    "        res = no1**no2\n",
    "        print(res)\n",
    "    elif(choice==\"log\"):\n",
    "        res = math.log(no1,no2)\n",
    "        print(res)\n",
    "    else:\n",
    "        print(\"Incorrect choice\")\n",
    "    c = input(\"Want to continue Y/N?\")\n",
    "    if(c==\"N\" or c==\"n\"):\n",
    "        break"
   ]
  },
  {
   "cell_type": "code",
   "execution_count": 6,
   "id": "9510972a",
   "metadata": {},
   "outputs": [
    {
     "name": "stdout",
     "output_type": "stream",
     "text": [
      "-0.9880316240928618\n",
      "0.15425144988758405\n",
      "265252859812191058636308480000000\n"
     ]
    }
   ],
   "source": [
    "#new program \n",
    "\n",
    "import math\n",
    "x = 30\n",
    "r1 = math.sin(x)\n",
    "print(r1)\n",
    "r2 = math.cos(x)\n",
    "print(r2)\n",
    "r3 = math.factorial(x)\n",
    "print(r3)"
   ]
  }
 ],
 "metadata": {
  "kernelspec": {
   "display_name": "Python 3 (ipykernel)",
   "language": "python",
   "name": "python3"
  },
  "language_info": {
   "codemirror_mode": {
    "name": "ipython",
    "version": 3
   },
   "file_extension": ".py",
   "mimetype": "text/x-python",
   "name": "python",
   "nbconvert_exporter": "python",
   "pygments_lexer": "ipython3",
   "version": "3.9.7"
  }
 },
 "nbformat": 4,
 "nbformat_minor": 5
}
