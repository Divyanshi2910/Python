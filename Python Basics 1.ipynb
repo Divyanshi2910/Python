{
 "cells": [
  {
   "cell_type": "code",
   "execution_count": null,
   "id": "494487c0",
   "metadata": {},
   "outputs": [],
   "source": [
    "#Python Programming\n",
    "\n",
    "# IDE(Integrated Development Environment)\n",
    "\n",
    "# 1. IDLE(Integrated Development Learning Envirinment):- this is a product of python.org\n",
    "# 2. Pycharm:- Very popular IDE due to : Its recomndation is very fast.\n",
    "# 3. Anaconda Environment:-\n",
    "#     (i)Jupyter notebook\n",
    "#     (ii)Spyder IDE\n",
    "# 4. Vscode:- getting popular: Miscrosoft Product\n",
    "# 5. Google colab:- Fast Application\n",
    "# 6. Visual Studio"
   ]
  },
  {
   "cell_type": "code",
   "execution_count": null,
   "id": "e5504cf1",
   "metadata": {},
   "outputs": [],
   "source": [
    "#  Comments:- official wat to use the comments in program is: #\n",
    "#  Python officialy supports single line comment.\n",
    "#  But there are Jugaads to write multiline comments i.e. by using tripple quotes.\n",
    "#  (i)Single line comment:- # or single quotes or double quotes.\n",
    "\n",
    "#     \"WORLD\"\n",
    "#     'WORLD'\n",
    "    \n",
    "#  (ii)Multiline comment:- Tripple single Quotes or Tripple Double Quotes.\n",
    "\n",
    "#     \"\"\"\"\"\"Welcome to world\n",
    "#           My name is World\n",
    "#           python is programming language....\"\"\"\"\"\""
   ]
  },
  {
   "cell_type": "code",
   "execution_count": null,
   "id": "ce46ab88",
   "metadata": {},
   "outputs": [],
   "source": [
    "#Version 1 of Print Function:-\n",
    "#print(values,variables,expressions,conditions,functions...)\n",
    "\n",
    "#Syntax\n",
    "\n",
    "#print(comma seperated arguments)\n"
   ]
  },
  {
   "cell_type": "code",
   "execution_count": 1,
   "id": "504ebb0b",
   "metadata": {},
   "outputs": [
    {
     "name": "stdout",
     "output_type": "stream",
     "text": [
      "5 3.5 world\n"
     ]
    }
   ],
   "source": [
    "a=5\n",
    "b=3.5\n",
    "c=\"world\"\n",
    "print(a,b,c)\n"
   ]
  },
  {
   "cell_type": "code",
   "execution_count": 2,
   "id": "385cadea",
   "metadata": {},
   "outputs": [
    {
     "name": "stdout",
     "output_type": "stream",
     "text": [
      "5 3.5 world 67 77 99.5 real world 8.5 False\n"
     ]
    }
   ],
   "source": [
    "a=5\n",
    "b=3.5\n",
    "c=\"world\"\n",
    "print(a,b,c,67,77,99.5,\"real world\",a+b,a==b)\n"
   ]
  },
  {
   "cell_type": "code",
   "execution_count": 3,
   "id": "c19150a7",
   "metadata": {},
   "outputs": [
    {
     "name": "stdout",
     "output_type": "stream",
     "text": [
      "2 3 4 5 6\n",
      "world\n"
     ]
    }
   ],
   "source": [
    "a,b,c,d,e=2,3,4,5,6\n",
    "print(a,b,c,d,e)\n",
    "print(\"world\")"
   ]
  },
  {
   "cell_type": "code",
   "execution_count": null,
   "id": "0be71ecc",
   "metadata": {},
   "outputs": [],
   "source": [
    "# Version 2 of print function\n",
    "# We are already aware now that whenever we run print function there is automatically a space is printed in between the arguments\n",
    "# and after the execution of print functions cursor automatically move to next line."
   ]
  },
  {
   "cell_type": "code",
   "execution_count": null,
   "id": "dd192543",
   "metadata": {},
   "outputs": [],
   "source": [
    "#\\(backward slash) is an escape character."
   ]
  },
  {
   "cell_type": "code",
   "execution_count": 4,
   "id": "f3e899bf",
   "metadata": {},
   "outputs": [
    {
     "name": "stdout",
     "output_type": "stream",
     "text": [
      "WELCOME\n",
      "WEL\n",
      "COME\n"
     ]
    }
   ],
   "source": [
    "x=\"WELCOME\"\n",
    "print(x)\n",
    "x=\"WEL\\nCOME\"\n",
    "print(x)"
   ]
  },
  {
   "cell_type": "code",
   "execution_count": null,
   "id": "6e0ed3ac",
   "metadata": {},
   "outputs": [],
   "source": [
    "# \\n escape character: New line character.\n",
    "# \\t Tab character"
   ]
  },
  {
   "cell_type": "code",
   "execution_count": 5,
   "id": "bcaa40e0",
   "metadata": {},
   "outputs": [
    {
     "name": "stdout",
     "output_type": "stream",
     "text": [
      "WE\tCOME\n"
     ]
    }
   ],
   "source": [
    "x=\"WE\\tCOME\"\n",
    "print(x)"
   ]
  },
  {
   "cell_type": "code",
   "execution_count": null,
   "id": "da984505",
   "metadata": {},
   "outputs": [],
   "source": [
    "# First extension of print function:\n",
    "\n",
    "# print(Argument,sep=\" \",end=\"\\n\")\n",
    "\n",
    "# By default sep is having seperator.\n",
    "# end is having new line character.\n"
   ]
  },
  {
   "cell_type": "code",
   "execution_count": 6,
   "id": "b340ad98",
   "metadata": {},
   "outputs": [
    {
     "name": "stdout",
     "output_type": "stream",
     "text": [
      "5 7 9\n"
     ]
    }
   ],
   "source": [
    "a,b,c=5,7,9\n",
    "print(a,b,c)         #print(a sep b sep c end)\n"
   ]
  },
  {
   "cell_type": "code",
   "execution_count": null,
   "id": "7a0562a4",
   "metadata": {},
   "outputs": [],
   "source": [
    "# But we can change sep and end "
   ]
  },
  {
   "cell_type": "code",
   "execution_count": 7,
   "id": "5f3473b8",
   "metadata": {},
   "outputs": [
    {
     "name": "stdout",
     "output_type": "stream",
     "text": [
      "5*7*9\n",
      "\n",
      "11 13\n"
     ]
    }
   ],
   "source": [
    "a,b,c,d,e=5,7,9,11,13\n",
    "print(a,b,c,sep=\"*\",end=\"\\n\\n\")\n",
    "print(d,e)"
   ]
  },
  {
   "cell_type": "code",
   "execution_count": 8,
   "id": "1f35601e",
   "metadata": {},
   "outputs": [
    {
     "name": "stdout",
     "output_type": "stream",
     "text": [
      "5world7world9"
     ]
    }
   ],
   "source": [
    "a,b,c,d,e=5,7,9,11,13\n",
    "print(a,b,c,sep=\"world\",end=\"\")"
   ]
  },
  {
   "cell_type": "code",
   "execution_count": 10,
   "id": "f65db54d",
   "metadata": {},
   "outputs": [
    {
     "name": "stdout",
     "output_type": "stream",
     "text": [
      "2#3#4world5 6\n"
     ]
    }
   ],
   "source": [
    "a,b,c,d,e=2,3,4,5,6\n",
    "print(a,b,c,sep=\"#\",end=\"world\")\n",
    "print(d,e)"
   ]
  },
  {
   "cell_type": "code",
   "execution_count": 11,
   "id": "186cfd6a",
   "metadata": {},
   "outputs": [
    {
     "name": "stdout",
     "output_type": "stream",
     "text": [
      "2 3*4555\n",
      "6$7\n"
     ]
    }
   ],
   "source": [
    "a,b,c,d,e,f=2,3,4,5,6,7\n",
    "print(a,b,end=\"*\")\n",
    "print(c,d,sep=\"55\")\n",
    "print(e,sep=\"#\",end=\"$\")               #seperators always print between two arguments\n",
    "print(f)"
   ]
  },
  {
   "cell_type": "code",
   "execution_count": 12,
   "id": "2078fa28",
   "metadata": {},
   "outputs": [
    {
     "name": "stdout",
     "output_type": "stream",
     "text": [
      "****"
     ]
    }
   ],
   "source": [
    "print(\"*\",end=\"\")\n",
    "print(\"*\",end=\"\")\n",
    "print(\"*\",end=\"\")\n",
    "print(\"*\",end=\"\")"
   ]
  },
  {
   "cell_type": "code",
   "execution_count": null,
   "id": "2fdc429a",
   "metadata": {},
   "outputs": [],
   "source": [
    "# For user interaction we have two basic function i.e. print() and input()\n",
    "# print(): to send output on screen.\n",
    "# input(): to collect/input the data from user."
   ]
  },
  {
   "cell_type": "code",
   "execution_count": null,
   "id": "c1db951f",
   "metadata": {},
   "outputs": [],
   "source": [
    "# INPUT FUNCTION\n",
    "\n",
    "# Syntax:\n",
    "# return_var=input(\"message for user\")"
   ]
  },
  {
   "cell_type": "code",
   "execution_count": 14,
   "id": "3c0751cd",
   "metadata": {},
   "outputs": [
    {
     "name": "stdout",
     "output_type": "stream",
     "text": [
      "enter your  name: Arin Saini\n",
      "Arin Saini\n"
     ]
    }
   ],
   "source": [
    "a=input(\"enter your  name: \")\n",
    "print(a)"
   ]
  },
  {
   "cell_type": "code",
   "execution_count": 15,
   "id": "ebff5782",
   "metadata": {},
   "outputs": [
    {
     "name": "stdout",
     "output_type": "stream",
     "text": [
      "enter first no: 5\n",
      "enter second no: 7\n",
      "57\n"
     ]
    }
   ],
   "source": [
    "a=input(\"enter first no: \")\n",
    "b=input(\"enter second no: \")\n",
    "s=a+b\n",
    "print(s)"
   ]
  },
  {
   "cell_type": "code",
   "execution_count": 16,
   "id": "2678fe74",
   "metadata": {},
   "outputs": [
    {
     "name": "stdout",
     "output_type": "stream",
     "text": [
      "world\n",
      "5\n"
     ]
    }
   ],
   "source": [
    "#String:\n",
    "    \n",
    "x=\"world\"\n",
    "print(x)         #both are string\n",
    "x=\"5\"\n",
    "print(x)"
   ]
  },
  {
   "cell_type": "code",
   "execution_count": 18,
   "id": "49b1070c",
   "metadata": {},
   "outputs": [
    {
     "name": "stdout",
     "output_type": "stream",
     "text": [
      "<class 'int'>\n",
      "<class 'float'>\n",
      "<class 'str'>\n",
      "5 2.5 5\n"
     ]
    }
   ],
   "source": [
    "#TYPE: \n",
    "    \n",
    "a=5\n",
    "b=2.5\n",
    "c=\"5\"\n",
    "print(type(a))\n",
    "print(type(b))\n",
    "print(type(c))\n",
    "print(a,b,c)"
   ]
  },
  {
   "cell_type": "code",
   "execution_count": null,
   "id": "53b9674f",
   "metadata": {},
   "outputs": [],
   "source": [
    "# Now whenever we interact with the string data is always transferred in form of strings. In input function if user pass any value\n",
    "# them it will be of string form."
   ]
  },
  {
   "cell_type": "code",
   "execution_count": 19,
   "id": "38280085",
   "metadata": {},
   "outputs": [
    {
     "name": "stdout",
     "output_type": "stream",
     "text": [
      "enter first no: 5\n",
      "<class 'str'>\n",
      "5\n"
     ]
    }
   ],
   "source": [
    "x=input(\"enter first no: \")\n",
    "print((type(x)))\n",
    "print(x)"
   ]
  },
  {
   "cell_type": "code",
   "execution_count": null,
   "id": "07c22e7b",
   "metadata": {},
   "outputs": [],
   "source": [
    "# Whenever we use + opertor on strings then the strings are concatenated."
   ]
  },
  {
   "cell_type": "code",
   "execution_count": 20,
   "id": "7ebb357c",
   "metadata": {},
   "outputs": [
    {
     "name": "stdout",
     "output_type": "stream",
     "text": [
      "HELLOWORLD\n"
     ]
    }
   ],
   "source": [
    "print(\"HELLO\"+\"WORLD\")"
   ]
  },
  {
   "cell_type": "code",
   "execution_count": 21,
   "id": "64bc34cf",
   "metadata": {},
   "outputs": [
    {
     "name": "stdout",
     "output_type": "stream",
     "text": [
      "57\n"
     ]
    }
   ],
   "source": [
    "print(\"5\"+\"7\")"
   ]
  },
  {
   "cell_type": "code",
   "execution_count": 22,
   "id": "335b0c4f",
   "metadata": {},
   "outputs": [
    {
     "name": "stdout",
     "output_type": "stream",
     "text": [
      "enter first no: 5\n",
      "enter second no: 7\n",
      "57\n"
     ]
    }
   ],
   "source": [
    "x=input(\"enter first no: \")\n",
    "y=input(\"enter second no: \")\n",
    "s=x+y\n",
    "print(s)"
   ]
  },
  {
   "cell_type": "markdown",
   "id": "68296841",
   "metadata": {},
   "source": [
    "#TYPE CASTING\n",
    "\n",
    "#To convert one data type to another data type.\n",
    "\n",
    "#Syntax:\n",
    "    \n",
    "#Dest_var=Dest_type(src_var)"
   ]
  },
  {
   "cell_type": "code",
   "execution_count": 23,
   "id": "cf081f3f",
   "metadata": {},
   "outputs": [
    {
     "name": "stdout",
     "output_type": "stream",
     "text": [
      "<class 'str'>\n",
      "<class 'int'>\n",
      "<class 'float'>\n"
     ]
    }
   ],
   "source": [
    "x=\"5\"\n",
    "print(type(x))\n",
    "x=int(x)\n",
    "print(type(x))\n",
    "x=float(x)\n",
    "print(type(x))"
   ]
  },
  {
   "cell_type": "code",
   "execution_count": 25,
   "id": "a36ddbf8",
   "metadata": {},
   "outputs": [
    {
     "name": "stdout",
     "output_type": "stream",
     "text": [
      "enter first no: 5\n",
      "enter second no:7\n",
      "result:  12\n"
     ]
    }
   ],
   "source": [
    "# WAP to add two inputs\n",
    "\n",
    "x=int(input(\"enter first no: \"))\n",
    "y=int(input(\"enter second no:\"))\n",
    "s=x+y\n",
    "print(\"result: \",s)"
   ]
  }
 ],
 "metadata": {
  "kernelspec": {
   "display_name": "Python 3 (ipykernel)",
   "language": "python",
   "name": "python3"
  },
  "language_info": {
   "codemirror_mode": {
    "name": "ipython",
    "version": 3
   },
   "file_extension": ".py",
   "mimetype": "text/x-python",
   "name": "python",
   "nbconvert_exporter": "python",
   "pygments_lexer": "ipython3",
   "version": "3.9.7"
  }
 },
 "nbformat": 4,
 "nbformat_minor": 5
}
