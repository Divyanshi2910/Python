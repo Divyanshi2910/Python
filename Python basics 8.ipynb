{
 "cells": [
  {
   "cell_type": "markdown",
   "id": "eb80ca1f",
   "metadata": {},
   "source": [
    "# DATA TYPES"
   ]
  },
  {
   "cell_type": "code",
   "execution_count": null,
   "id": "33c825ae",
   "metadata": {},
   "outputs": [],
   "source": [
    "# Single Element\n",
    "# int, float, complex, boolean, none type\n",
    "\n",
    "# Multielements/Iterators\n",
    "# string, list, tuple, dictionary, set, frozen set\n",
    "\n",
    "# --> String collection of HOMOGENEOUS data type i.e. character.\n",
    "# --> List is a collection of HETEROGENEOUS data type."
   ]
  },
  {
   "cell_type": "code",
   "execution_count": 5,
   "id": "aea83a6a",
   "metadata": {},
   "outputs": [
    {
     "name": "stdout",
     "output_type": "stream",
     "text": [
      "d\n",
      "a\n",
      "h\n",
      "9\n",
      "divyanshi\n",
      "v\n",
      "vya\n",
      "[2, 3, 4]\n",
      "[4, 5, 6]\n",
      "2\n"
     ]
    }
   ],
   "source": [
    "#INDEXING examples\n",
    "\n",
    "#Example 1\n",
    "s = \"divyanshi\"  #indexing: 0 to 8\n",
    "print(s[0])\n",
    "print(s[4])\n",
    "print(s[7])\n",
    "print(len(s))\n",
    "\n",
    "#Example 2\n",
    "L1 = [22,45,56.7,99,\"divyanshi\"]\n",
    "print(L1[4])\n",
    "print(L1[4][2])         #L1[4] = a(assume) = string\n",
    "print(L1[4][2:5])\n",
    "\n",
    "#Example 3\n",
    "L = [[2,3,4],[4,5,6]]   #indexing: 0 to 1\n",
    "print(L[0])             #List under List is allowed\n",
    "print(L[1])             #2-D Array\n",
    "print(len(L))\n",
    "\n"
   ]
  },
  {
   "cell_type": "code",
   "execution_count": null,
   "id": "ad2b1971",
   "metadata": {},
   "outputs": [],
   "source": [
    "# MUTABLE DATA TYPES:\n",
    "#     -->Which cannot be modified. Can understand it better i.e. elements of mutable types can be changed.\n",
    "#         *list, dict, set are mutable data types.\n",
    "     \n",
    "# IMMUTABLE DATA TYPES:\n",
    "#     -->Which cannot be modified.\n",
    "#        *int, float, boolean, nonetype, str, tuple and frozen set are immutable data types."
   ]
  },
  {
   "cell_type": "code",
   "execution_count": 7,
   "id": "2f88a2c2",
   "metadata": {},
   "outputs": [
    {
     "name": "stdout",
     "output_type": "stream",
     "text": [
      "5 2076303387056\n",
      "7 2076303387120\n",
      "DIVYANSHI 2076383582320\n",
      "WELCOME 2076384159984\n",
      "2076384405696\n",
      "2076383582832\n",
      "2076383606848\n",
      "[85, 45, 55, 65, 75]\n",
      "2076383606848\n"
     ]
    }
   ],
   "source": [
    "#EXAMPLES:\n",
    "\n",
    "#EX.1\n",
    "x = 5\n",
    "print(x, id(x))\n",
    "x = 7           #address will be changed\n",
    "print(x, id(x))\n",
    "\n",
    "#EX.2\n",
    "x = \"DIVYANSHI\"\n",
    "print(x, id(x))     \n",
    "x = \"WELCOME\"      #address will be changed\n",
    "print(x, id(x))\n",
    "\n",
    "#EX.3\n",
    "# x = \"welcome\"\n",
    "# x[o] = \"M\"   -->type error\n",
    "# print(x)\n",
    "\n",
    "#EX.4\n",
    "L1 = [22,33,44,55,66]\n",
    "print(id(L1))\n",
    "L1 = \"welcome\"   \n",
    "print(id(L1))   #id will be changed\n",
    "\n",
    "#EX.5\n",
    "L1 = [35,45,55,65,75]\n",
    "print(id(L1))\n",
    "L1[0] = 85\n",
    "print(L1)\n",
    "print(id(L1))     #address will be same"
   ]
  },
  {
   "cell_type": "code",
   "execution_count": 9,
   "id": "e1676827",
   "metadata": {},
   "outputs": [
    {
     "name": "stdout",
     "output_type": "stream",
     "text": [
      "(22, 23.5, True, 'divyanshi')\n",
      "<class 'tuple'>\n"
     ]
    }
   ],
   "source": [
    "# TUPLE : Collection of HETEROGENEOUS data types\n",
    "#     --> Immutable in nature\n",
    "#     --> syntax : (comma seperated element)\n",
    "\n",
    "t = (22,23.5,True,\"divyanshi\")\n",
    "print(t)\n",
    "print(type(t))\n",
    "\n",
    "# t = (2,3,4,5)\n",
    "# t[0] = 8     -->error: tuple is immutable\n",
    "# print(t)       "
   ]
  },
  {
   "cell_type": "code",
   "execution_count": 11,
   "id": "015c9903",
   "metadata": {},
   "outputs": [
    {
     "name": "stdout",
     "output_type": "stream",
     "text": [
      "2076303387056 2076303387056\n",
      "2076303387088 2076303387056\n",
      "2076384392384\n",
      "2076384392384\n",
      "[98, 33, 44]\n"
     ]
    }
   ],
   "source": [
    "# NOTE: All variables in python are of reference type. if we assign one variable to another then their address are copied.\n",
    "\n",
    "a = 5\n",
    "b = a\n",
    "print(id(a),id(b))\n",
    "a = 6\n",
    "print(id(a),id(b))   #id of b remains same as above.\n",
    "\n",
    "#NOTE: If we modify/increase/decrease the element of list the base address of list will not change.\n",
    "\n",
    "L1 = [22,33,44]\n",
    "print(id(L1))\n",
    "L1[0] = 98\n",
    "print(id(L1))\n",
    "print(L1)"
   ]
  },
  {
   "cell_type": "code",
   "execution_count": 13,
   "id": "2ed8608e",
   "metadata": {},
   "outputs": [
    {
     "name": "stdout",
     "output_type": "stream",
     "text": [
      "5\n",
      "[77, 33, 44]\n",
      "2076384396608 2076384396608 2076384102592\n"
     ]
    }
   ],
   "source": [
    "#NOTE: In list address will same but element changes after modification while not in integer type\n",
    "\n",
    "a = 5\n",
    "b = a\n",
    "a = 6\n",
    "print(b)      #b will not change after modification in a.\n",
    "L1 = [22,33,44]\n",
    "L2 = L1\n",
    "L1[0] = 77\n",
    "print(L2)    #L2 will change after modification in L1.\n",
    "\n",
    "\n",
    "L1 = [22,33,44]\n",
    "L2 = L1\n",
    "L3 = L1.copy()    #address will change\n",
    "print(id(L1),id(L2),id(L3))"
   ]
  },
  {
   "cell_type": "code",
   "execution_count": 14,
   "id": "77977638",
   "metadata": {},
   "outputs": [
    {
     "name": "stdout",
     "output_type": "stream",
     "text": [
      "[66, 33, 44]\n"
     ]
    }
   ],
   "source": [
    "# TUPLE is generally used to share data between Presentation Layer and Business Logic Layer.\n",
    "\n",
    "def func1(L2):\n",
    "    L2[0] = 66\n",
    "\n",
    "L1 = [22,33,44]\n",
    "func1(L1)\n",
    "print(L1)"
   ]
  },
  {
   "cell_type": "code",
   "execution_count": 15,
   "id": "19efd823",
   "metadata": {},
   "outputs": [
    {
     "name": "stdout",
     "output_type": "stream",
     "text": [
      "(22, 33, 44)\n",
      "['D', 'i', 'v', 'y', 'a', 'n', 's', 'h', 'i']\n"
     ]
    }
   ],
   "source": [
    "#LIST to TUPLE  &  STRING to TUPLE\n",
    "\n",
    "L1 = [22,33,44]\n",
    "t = tuple(L1)\n",
    "print(t)\n",
    "L2 = \"Divyanshi\"\n",
    "s = list(L2)\n",
    "print(s)\n"
   ]
  },
  {
   "cell_type": "code",
   "execution_count": 16,
   "id": "95065634",
   "metadata": {},
   "outputs": [
    {
     "name": "stdout",
     "output_type": "stream",
     "text": [
      "Enter 5 no:6 7 6 7 5\n",
      "['6', '7', '6', '7', '5']\n"
     ]
    }
   ],
   "source": [
    "s = input(\"Enter 5 no:\")\n",
    "l = s.split()\n",
    "print(l)"
   ]
  }
 ],
 "metadata": {
  "kernelspec": {
   "display_name": "Python 3 (ipykernel)",
   "language": "python",
   "name": "python3"
  },
  "language_info": {
   "codemirror_mode": {
    "name": "ipython",
    "version": 3
   },
   "file_extension": ".py",
   "mimetype": "text/x-python",
   "name": "python",
   "nbconvert_exporter": "python",
   "pygments_lexer": "ipython3",
   "version": "3.9.7"
  }
 },
 "nbformat": 4,
 "nbformat_minor": 5
}
