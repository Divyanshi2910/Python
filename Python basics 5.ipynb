{
 "cells": [
  {
   "cell_type": "code",
   "execution_count": 2,
   "id": "ef7d4db1",
   "metadata": {},
   "outputs": [
    {
     "name": "stdout",
     "output_type": "stream",
     "text": [
      "1\n",
      "7\n",
      "6\n",
      "40\n",
      "0\n"
     ]
    }
   ],
   "source": [
    "#4. Bitwise Operators\n",
    "# &   -->Bitwise AND :If both input are 1 then output 1 else output is 0.\n",
    "# |   -->Bitwise OR  :If any input is 1 then output 1 else output 0.\n",
    "# ~   -->Bitwise NOT :Inverse of Input.\n",
    "# ^   -->Bitwise Xor :If both input is same then output 0 else output 1. \n",
    "# <<  -->Bitwise shift left : 1. All bits will be shifted towards left and LSBS will be filled by 0.\n",
    "#                             2. s=a<<b then a will be shifted towards left by b times\n",
    "# >>  -->Bitwise shift right : All bits will be shifted towars right and MSBS will br filled by MSB.\n",
    "    \n",
    "    \n",
    "# New Program\n",
    "\n",
    "a,b=5,3\n",
    "print(a&b)\n",
    "print(a|b)\n",
    "print(a^b)\n",
    "print(a<<b)\n",
    "print(a>>b)"
   ]
  },
  {
   "cell_type": "code",
   "execution_count": 10,
   "id": "bed60931",
   "metadata": {},
   "outputs": [
    {
     "name": "stdout",
     "output_type": "stream",
     "text": [
      "2\n",
      "4\n",
      "2\n",
      "4\n",
      "2.0\n",
      "0.0\n"
     ]
    }
   ],
   "source": [
    "#5. Assignment Operators\n",
    "# =    --> Equals to\n",
    "# +=   --> s+=a then s=s+a\n",
    "# -=   --> s-=a then s=s-a\n",
    "# *=   --> s*=a then s=s*a\n",
    "# /=   --> s/=a then s=s/a\n",
    "# %=   --> s%=a then s=s%a\n",
    "# **=  --> s**=a then s=s**a\n",
    "# //=  --> s//=a then s=s//a\n",
    "# &=   --> s&=a then s=s&a\n",
    "# |=   --> s|=a then s=s|a\n",
    "# ^=   --> s^=a then s=s^a\n",
    "# <<=  --> s<<=a then s=s<<a\n",
    "# >>=  --> s>>=a then s=s>>a\n",
    "\n",
    "# New Program\n",
    "\n",
    "a,b=5,2\n",
    "\n",
    "a=b\n",
    "print(a)\n",
    "a+=b\n",
    "print(a)\n",
    "a-=b\n",
    "print(a)\n",
    "a*=b\n",
    "print(a)\n",
    "a/=b\n",
    "print(a)\n",
    "a%=b\n",
    "print(a)"
   ]
  },
  {
   "cell_type": "code",
   "execution_count": 12,
   "id": "2edf1bad",
   "metadata": {},
   "outputs": [
    {
     "name": "stdout",
     "output_type": "stream",
     "text": [
      "False\n",
      "True\n",
      "False\n",
      "False\n"
     ]
    }
   ],
   "source": [
    "# 6. Membership Operator \n",
    "# --> to check whether an element belongs to a iterator or not.\n",
    "\n",
    "# 1. in --> present-> true   not present->false\n",
    "# 2. not in --> present so-> false  not present->true\n",
    "\n",
    "# Return True or False\n",
    "\n",
    "# New  Program\n",
    "\n",
    "s=\"WELCOME\"\n",
    "a=\"L\"\n",
    "\n",
    "r=s in a\n",
    "print(r)\n",
    "\n",
    "r=a in s\n",
    "print(r)\n",
    "\n",
    "r=a not in s\n",
    "print(r)\n",
    "\n",
    "# New Program\n",
    "\n",
    "l1=[\"India\",\"America\",\"Japan\"]\n",
    "print(\"China\" in l1)\n",
    "\n"
   ]
  },
  {
   "cell_type": "code",
   "execution_count": null,
   "id": "24d47e1d",
   "metadata": {},
   "outputs": [],
   "source": [
    "# 7.Identity Operator \n",
    "# --> check whether the variable/data is holding the same memory location or not.\n",
    "\n",
    "# 1. is -> check address\n",
    "# 2. is not "
   ]
  },
  {
   "cell_type": "code",
   "execution_count": 13,
   "id": "7e23d932",
   "metadata": {},
   "outputs": [
    {
     "name": "stdout",
     "output_type": "stream",
     "text": [
      "2585925773440\n",
      "2585903015872\n"
     ]
    }
   ],
   "source": [
    "a=[23,45,67,88]\n",
    "b=[23,45,67,88]\n",
    "\n",
    "print(id(a))     #different id\n",
    "print(id(b))"
   ]
  },
  {
   "cell_type": "code",
   "execution_count": 14,
   "id": "776e5596",
   "metadata": {},
   "outputs": [
    {
     "name": "stdout",
     "output_type": "stream",
     "text": [
      "2585821604272\n",
      "2585821604272\n"
     ]
    }
   ],
   "source": [
    "a=5\n",
    "b=5\n",
    "\n",
    "print(id(a))     #same id\n",
    "print(id(b))"
   ]
  },
  {
   "cell_type": "code",
   "execution_count": 15,
   "id": "f26f52cd",
   "metadata": {},
   "outputs": [
    {
     "name": "stdout",
     "output_type": "stream",
     "text": [
      "2585928576560\n",
      "2585928576560\n"
     ]
    }
   ],
   "source": [
    "a=\"welcome\"\n",
    "b=\"welcome\"\n",
    "\n",
    "print(id(a))     #same id\n",
    "print(id(b))"
   ]
  },
  {
   "cell_type": "code",
   "execution_count": 16,
   "id": "27fef3b0",
   "metadata": {},
   "outputs": [
    {
     "name": "stdout",
     "output_type": "stream",
     "text": [
      "2585931960832\n",
      "2585931960832\n"
     ]
    }
   ],
   "source": [
    "a=[22,23,34,56,65]\n",
    "b=a\n",
    "\n",
    "print(id(a))     #same id\n",
    "print(id(b))"
   ]
  },
  {
   "cell_type": "code",
   "execution_count": 17,
   "id": "2e8e25a2",
   "metadata": {},
   "outputs": [
    {
     "name": "stdout",
     "output_type": "stream",
     "text": [
      "True\n",
      "True\n"
     ]
    }
   ],
   "source": [
    "a=5\n",
    "b=a\n",
    "\n",
    "print(a is b)\n",
    "print(a==b)"
   ]
  },
  {
   "cell_type": "code",
   "execution_count": 18,
   "id": "ccf7b715",
   "metadata": {},
   "outputs": [
    {
     "name": "stdout",
     "output_type": "stream",
     "text": [
      "False\n",
      "True\n"
     ]
    }
   ],
   "source": [
    "a=[2,3,4]\n",
    "b=[2,3,4]\n",
    "\n",
    "print(a is b)\n",
    "print(a==b)"
   ]
  },
  {
   "cell_type": "markdown",
   "id": "d5f12c66",
   "metadata": {},
   "source": [
    "# Conditional Statement  (3 types)"
   ]
  },
  {
   "cell_type": "code",
   "execution_count": null,
   "id": "569d7473",
   "metadata": {},
   "outputs": [],
   "source": [
    "# 1. if\n",
    "# 2. elif\n",
    "# 3. else\n",
    "\n",
    "# -->Indentation : if we have any sub statement inside a statement then internal statements will be indented statements.\n",
    "# -->The main statement is called a heading which is terminated by colon(:) and all internal statements are collectively called \n",
    "#    suite.\n",
    "# -->All the statements of a suite are indented statements means all the sub statements will be at a fixed space or gap w.r.t \n",
    "#    heading."
   ]
  },
  {
   "cell_type": "code",
   "execution_count": 20,
   "id": "bee6af89",
   "metadata": {},
   "outputs": [
    {
     "name": "stdout",
     "output_type": "stream",
     "text": [
      "correct\n",
      "welcome\n"
     ]
    }
   ],
   "source": [
    "a=2324               #always run\n",
    "if(a==2324):          #Heading\n",
    "    print(\"correct\") #Suite first statement\n",
    "    print(\"welcome\") #Suite second statement"
   ]
  },
  {
   "cell_type": "code",
   "execution_count": 21,
   "id": "5627dc1f",
   "metadata": {},
   "outputs": [
    {
     "name": "stdout",
     "output_type": "stream",
     "text": [
      "correct\n",
      "welcome\n",
      "program complete\n"
     ]
    }
   ],
   "source": [
    "a=5\n",
    "if(a==5):\n",
    "    print(\"correct\")\n",
    "    print(\"welcome\")\n",
    "print(\"program complete\")    #always run"
   ]
  },
  {
   "cell_type": "code",
   "execution_count": 22,
   "id": "90c7f11d",
   "metadata": {},
   "outputs": [
    {
     "name": "stdout",
     "output_type": "stream",
     "text": [
      "Enter the code:6\n",
      "code is incorrect\n",
      "you are not allowed to enter\n"
     ]
    }
   ],
   "source": [
    "a=int(input(\"Enter the code:\"))\n",
    "if(a==7):\n",
    "    print(\"code is correct\")\n",
    "    print(\"you are welcome\")\n",
    "else:\n",
    "    print(\"code is incorrect\")\n",
    "    print(\"you are not allowed to enter\")"
   ]
  },
  {
   "cell_type": "code",
   "execution_count": 24,
   "id": "5ad0c940",
   "metadata": {},
   "outputs": [
    {
     "ename": "IndentationError",
     "evalue": "unexpected indent (Temp/ipykernel_27072/118632096.py, line 2)",
     "output_type": "error",
     "traceback": [
      "\u001b[1;36m  File \u001b[1;32m\"C:\\Users\\Abhi\\AppData\\Local\\Temp/ipykernel_27072/118632096.py\"\u001b[1;36m, line \u001b[1;32m2\u001b[0m\n\u001b[1;33m    print(a)    #indentation error\u001b[0m\n\u001b[1;37m    ^\u001b[0m\n\u001b[1;31mIndentationError\u001b[0m\u001b[1;31m:\u001b[0m unexpected indent\n"
     ]
    }
   ],
   "source": [
    "a=5\n",
    "    print(a)    #indentation error"
   ]
  },
  {
   "cell_type": "code",
   "execution_count": 26,
   "id": "89ece7f5",
   "metadata": {},
   "outputs": [
    {
     "name": "stdout",
     "output_type": "stream",
     "text": [
      "Enter the no.:26\n",
      "ABCD\n"
     ]
    }
   ],
   "source": [
    "#else is not important if elif is there.\n",
    "\n",
    "\n",
    "a=int(input(\"Enter the no.:\"))\n",
    "if(a==5):\n",
    "    print(\"Hello\")\n",
    "elif(a==6):\n",
    "    print(\"Welcome\")\n",
    "elif(a==7):\n",
    "    print(\"correct\")\n",
    "elif(a>7):\n",
    "    print(\"ABCD\")"
   ]
  },
  {
   "cell_type": "code",
   "execution_count": 27,
   "id": "0d1da98c",
   "metadata": {},
   "outputs": [
    {
     "name": "stdout",
     "output_type": "stream",
     "text": [
      "enter the day:tuesday\n",
      "go to work\n"
     ]
    }
   ],
   "source": [
    "day=input(\"enter the day:\")\n",
    "if(day==\"sunday\"):\n",
    "    print(\"take rest\")\n",
    "elif(day==\"saturday\"):\n",
    "    print(\"go for shopping\")\n",
    "elif (day==\"friday\"):\n",
    "    print(\"go for movie\")\n",
    "else:\n",
    "    print(\"go to work\")\n",
    "    "
   ]
  },
  {
   "cell_type": "code",
   "execution_count": 28,
   "id": "fd136b43",
   "metadata": {},
   "outputs": [
    {
     "name": "stdout",
     "output_type": "stream",
     "text": [
      "Welcome\n"
     ]
    }
   ],
   "source": [
    "a,b=5,7\n",
    "if(a>4 and b==7):\n",
    "    print(\"Welcome\")"
   ]
  },
  {
   "cell_type": "code",
   "execution_count": 32,
   "id": "1cf59865",
   "metadata": {},
   "outputs": [
    {
     "name": "stdout",
     "output_type": "stream",
     "text": [
      "Good Work\n",
      "correct\n"
     ]
    }
   ],
   "source": [
    "a,b=5,7\n",
    "if(a==5):\n",
    "    if(b==7):\n",
    "        print(\"Good Work\")\n",
    "print(\"correct\")"
   ]
  },
  {
   "cell_type": "code",
   "execution_count": 33,
   "id": "4297c338",
   "metadata": {},
   "outputs": [
    {
     "name": "stdout",
     "output_type": "stream",
     "text": [
      "Enter the id:student123\n",
      "enter the password:stu@1234\n",
      "Login Allowed\n"
     ]
    }
   ],
   "source": [
    "# WAP for id, password for login\n",
    "\n",
    "id=input(\"Enter the id:\")\n",
    "if(id==\"student123\"):\n",
    "    pwd=input(\"enter the password:\")\n",
    "    if(pwd==\"stu@1234\"):\n",
    "        print(\"Login Allowed\")\n",
    "    else:\n",
    "        print(\"incorrect password\")\n",
    "else:\n",
    "    print(\"Incorrect id\")"
   ]
  },
  {
   "cell_type": "code",
   "execution_count": 34,
   "id": "db0a392a",
   "metadata": {},
   "outputs": [
    {
     "name": "stdout",
     "output_type": "stream",
     "text": [
      "Enter the id:student123\n",
      "enter the password:stu@3434\n",
      "incorrect password\n"
     ]
    }
   ],
   "source": [
    "id=input(\"Enter the id:\")\n",
    "if(id==\"student123\"):\n",
    "    pwd=input(\"enter the password:\")\n",
    "    if(pwd==\"stu@1234\"):\n",
    "        print(\"Login Allowed\")\n",
    "    else:\n",
    "        print(\"incorrect password\")\n",
    "else:\n",
    "    print(\"Incorrect id\")"
   ]
  },
  {
   "cell_type": "code",
   "execution_count": 35,
   "id": "ec44fb4f",
   "metadata": {},
   "outputs": [
    {
     "name": "stdout",
     "output_type": "stream",
     "text": [
      "Enter the id:student12345\n",
      "Incorrect id\n"
     ]
    }
   ],
   "source": [
    "id=input(\"Enter the id:\")\n",
    "if(id==\"student123\"):\n",
    "    pwd=input(\"enter the password:\")\n",
    "    if(pwd==\"stu@1234\"):\n",
    "        print(\"Login Allowed\")\n",
    "    else:\n",
    "        print(\"incorrect password\")\n",
    "else:\n",
    "    print(\"Incorrect id\")"
   ]
  },
  {
   "cell_type": "code",
   "execution_count": 39,
   "id": "fdc425e3",
   "metadata": {},
   "outputs": [
    {
     "name": "stdout",
     "output_type": "stream",
     "text": [
      "12\n",
      "12\n"
     ]
    }
   ],
   "source": [
    "# -->Python is havng differnet pre defined frameworks/libraries/packages/maodules.(2.35 lakh+)\n",
    "# -->Pre defined Packages are of 3 types:\n",
    "    \n",
    "# 1.Built in package: Automatically access.\n",
    "# 2.In Built Package: Import seperatively in program but already installed in our system.\n",
    "# 3.External package: Seperately needs to be downloaded.\n",
    "    \n",
    "    \n",
    "# New Program\n",
    "\n",
    "import operator\n",
    "a,b=5,7\n",
    "s1=a+b\n",
    "print(s1)\n",
    "s2=operator.add(a,b)\n",
    "print(s2)\n"
   ]
  },
  {
   "cell_type": "code",
   "execution_count": null,
   "id": "0958e150",
   "metadata": {},
   "outputs": [],
   "source": []
  }
 ],
 "metadata": {
  "kernelspec": {
   "display_name": "Python 3 (ipykernel)",
   "language": "python",
   "name": "python3"
  },
  "language_info": {
   "codemirror_mode": {
    "name": "ipython",
    "version": 3
   },
   "file_extension": ".py",
   "mimetype": "text/x-python",
   "name": "python",
   "nbconvert_exporter": "python",
   "pygments_lexer": "ipython3",
   "version": "3.9.7"
  }
 },
 "nbformat": 4,
 "nbformat_minor": 5
}
