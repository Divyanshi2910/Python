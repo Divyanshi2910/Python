{
 "cells": [
  {
   "cell_type": "markdown",
   "id": "d589b3e7",
   "metadata": {},
   "source": [
    "# INDEXING AND SLICING IN PYTHON"
   ]
  },
  {
   "cell_type": "code",
   "execution_count": 1,
   "id": "4826fcae",
   "metadata": {},
   "outputs": [
    {
     "name": "stdout",
     "output_type": "stream",
     "text": [
      "D\n",
      "s\n",
      "a\n"
     ]
    },
    {
     "ename": "IndexError",
     "evalue": "string index out of range",
     "output_type": "error",
     "traceback": [
      "\u001b[1;31m---------------------------------------------------------------------------\u001b[0m",
      "\u001b[1;31mIndexError\u001b[0m                                Traceback (most recent call last)",
      "\u001b[1;32m~\\AppData\\Local\\Temp/ipykernel_9012/2511084590.py\u001b[0m in \u001b[0;36m<module>\u001b[1;34m\u001b[0m\n\u001b[0;32m      8\u001b[0m \u001b[1;33m\u001b[0m\u001b[0m\n\u001b[0;32m      9\u001b[0m \u001b[0ms\u001b[0m \u001b[1;33m=\u001b[0m \u001b[1;34m\"welcome\"\u001b[0m      \u001b[1;31m#index 0 to 6\u001b[0m\u001b[1;33m\u001b[0m\u001b[1;33m\u001b[0m\u001b[0m\n\u001b[1;32m---> 10\u001b[1;33m \u001b[0mprint\u001b[0m\u001b[1;33m(\u001b[0m\u001b[0ms\u001b[0m\u001b[1;33m[\u001b[0m\u001b[1;36m9\u001b[0m\u001b[1;33m]\u001b[0m\u001b[1;33m)\u001b[0m        \u001b[1;31m#index error\u001b[0m\u001b[1;33m\u001b[0m\u001b[1;33m\u001b[0m\u001b[0m\n\u001b[0m",
      "\u001b[1;31mIndexError\u001b[0m: string index out of range"
     ]
    }
   ],
   "source": [
    "# INDEXING\n",
    "# If index goes out of range then index error will be generated.\n",
    "\n",
    "s = \"Divyanshi\"     #index 0 to 8\n",
    "print(s[0])\n",
    "print(s[6])\n",
    "print(s[4])\n",
    "\n",
    "s = \"welcome\"      #index 0 to 6\n",
    "print(s[9])        #index error (string index out of range)"
   ]
  },
  {
   "cell_type": "code",
   "execution_count": 3,
   "id": "cd5e131a",
   "metadata": {},
   "outputs": [
    {
     "name": "stdout",
     "output_type": "stream",
     "text": [
      "w\n",
      "c\n",
      "e\n",
      "shyam\n",
      "a\n"
     ]
    }
   ],
   "source": [
    "# --> If iterator is having n elements then its index will start from 0 and will go till n-1.\n",
    "# --> Now python even supports negative indexing also.\n",
    "# --> If iterator is having n elements then its -ve index will start from -n and will go till -1.\n",
    "\n",
    "s = \"welcome\"    #index 0 to 6 and -7 to -1\n",
    "print(s[0])\n",
    "print(s[-4])\n",
    "print(s[-6])\n",
    "\n",
    "cus = [\"amit\",\"shivam\",\"sonu\",\"shyam\"]     #index 0 to 3 and -4 to -1\n",
    "print(cus[-1])\n",
    "print(cus[1][4])"
   ]
  },
  {
   "cell_type": "code",
   "execution_count": 4,
   "id": "99d70c6e",
   "metadata": {},
   "outputs": [
    {
     "name": "stdout",
     "output_type": "stream",
     "text": [
      "[99, 3, 4]\n"
     ]
    },
    {
     "ename": "TypeError",
     "evalue": "'tuple' object does not support item assignment",
     "output_type": "error",
     "traceback": [
      "\u001b[1;31m---------------------------------------------------------------------------\u001b[0m",
      "\u001b[1;31mTypeError\u001b[0m                                 Traceback (most recent call last)",
      "\u001b[1;32m~\\AppData\\Local\\Temp/ipykernel_9012/73012447.py\u001b[0m in \u001b[0;36m<module>\u001b[1;34m\u001b[0m\n\u001b[0;32m      4\u001b[0m \u001b[1;33m\u001b[0m\u001b[0m\n\u001b[0;32m      5\u001b[0m \u001b[0ms\u001b[0m \u001b[1;33m=\u001b[0m \u001b[1;33m(\u001b[0m\u001b[1;36m2\u001b[0m\u001b[1;33m,\u001b[0m\u001b[1;36m3\u001b[0m\u001b[1;33m,\u001b[0m\u001b[1;36m4\u001b[0m\u001b[1;33m)\u001b[0m\u001b[1;33m\u001b[0m\u001b[1;33m\u001b[0m\u001b[0m\n\u001b[1;32m----> 6\u001b[1;33m \u001b[0ms\u001b[0m\u001b[1;33m[\u001b[0m\u001b[1;36m0\u001b[0m\u001b[1;33m]\u001b[0m \u001b[1;33m=\u001b[0m \u001b[1;36m9\u001b[0m   \u001b[1;31m#tuple is immutable\u001b[0m\u001b[1;33m\u001b[0m\u001b[1;33m\u001b[0m\u001b[0m\n\u001b[0m\u001b[0;32m      7\u001b[0m \u001b[0mprint\u001b[0m\u001b[1;33m(\u001b[0m\u001b[0ms\u001b[0m\u001b[1;33m)\u001b[0m\u001b[1;33m\u001b[0m\u001b[1;33m\u001b[0m\u001b[0m\n",
      "\u001b[1;31mTypeError\u001b[0m: 'tuple' object does not support item assignment"
     ]
    }
   ],
   "source": [
    "L1 = [2,3,4]\n",
    "L1[0] = 99    #List is mutable\n",
    "print(L1) \n",
    "\n",
    "s = (2,3,4)\n",
    "s[0] = 9   #tuple is immutable\n",
    "print(s)   #type error"
   ]
  },
  {
   "cell_type": "code",
   "execution_count": null,
   "id": "6b988a0f",
   "metadata": {},
   "outputs": [],
   "source": [
    "# SLICING\n",
    "\n",
    "# --> To access 0,1 or more elements from an iterator\n",
    "# --> Complete syntax: var_name[lower_bound,upper_bound,step_size]"
   ]
  },
  {
   "cell_type": "code",
   "execution_count": 5,
   "id": "7cd5f91a",
   "metadata": {},
   "outputs": [
    {
     "name": "stdout",
     "output_type": "stream",
     "text": [
      "elco\n",
      "ecm\n"
     ]
    }
   ],
   "source": [
    "# 1. Upper bound is discarded in python in most of the places.\n",
    "\n",
    "s = \"welcome\"        #index 0 to 6\n",
    "print(s[1:5:1])      #s[1],s[2],s[3],s[4]\n",
    "print(s[1:6:2])      #s[1],s[3],s[5]"
   ]
  },
  {
   "cell_type": "code",
   "execution_count": 6,
   "id": "834075c2",
   "metadata": {},
   "outputs": [
    {
     "name": "stdout",
     "output_type": "stream",
     "text": [
      "elc\n"
     ]
    }
   ],
   "source": [
    "# 2. Step size is optional, Default step size is always 1.\n",
    "\n",
    "s = \"welcome\"\n",
    "print(s[1:4])      #s[1],s[2],s[3]"
   ]
  },
  {
   "cell_type": "code",
   "execution_count": null,
   "id": "bffe52f1",
   "metadata": {},
   "outputs": [],
   "source": [
    "#IF STEP SIZE IS +VE\n",
    "\n",
    "# --> Results move from left to right.\n",
    "# --> Default lower bound : 0\n",
    "# --> Default upper bound : n\n",
    "# --> If add step size in lower bound then value should move towards upper bound, if it doesn't happen then we get empty\n",
    "#     output i.e. in case of +ve step size upper bound is always greater then lower bound.\n",
    "\n",
    "# 3. If index (upper bound or lower bound) goes out of range then their will be empty string not any error.    "
   ]
  },
  {
   "cell_type": "code",
   "execution_count": 8,
   "id": "0ad52bba",
   "metadata": {},
   "outputs": [
    {
     "name": "stdout",
     "output_type": "stream",
     "text": [
      "\n",
      "welco\n",
      "lcome\n",
      "<class 'str'>\n"
     ]
    }
   ],
   "source": [
    "#Example 1\n",
    "\n",
    "s = \"welcome\"          #index 0 to 6\n",
    "print(s[20:60:1])\n",
    "print(s[ :5])          #Default lower bound 0\n",
    "print(s[2:])           #Default upper bound n\n",
    "print(type(s))"
   ]
  },
  {
   "cell_type": "code",
   "execution_count": 9,
   "id": "928f1ae3",
   "metadata": {},
   "outputs": [
    {
     "name": "stdout",
     "output_type": "stream",
     "text": [
      "welcome\n",
      "welcome\n",
      "welcome\n"
     ]
    }
   ],
   "source": [
    "#Example 2\n",
    "\n",
    "s = \"welcome\"       #7 elements, index 0 to 6\n",
    "print(s)\n",
    "print(s[:])\n",
    "print(s[::])"
   ]
  },
  {
   "cell_type": "code",
   "execution_count": 10,
   "id": "bbc86ebe",
   "metadata": {},
   "outputs": [
    {
     "name": "stdout",
     "output_type": "stream",
     "text": [
      "wloe\n"
     ]
    }
   ],
   "source": [
    "#Example 3\n",
    "#Print all elements at even indices\n",
    "\n",
    "s = \"welcome\"\n",
    "print(s[::2])        #s[0],s[2],s[4],s[6]"
   ]
  },
  {
   "cell_type": "code",
   "execution_count": 11,
   "id": "bb9e482a",
   "metadata": {},
   "outputs": [
    {
     "name": "stdout",
     "output_type": "stream",
     "text": [
      "\n",
      "<class 'str'>\n",
      "\n",
      "elco\n",
      "\n"
     ]
    }
   ],
   "source": [
    "#E$xample 4\n",
    "\n",
    "s = \"welcome\"\n",
    "print(s[6:2])         #Empty string because upper bound always greater then lower bound else empty string\n",
    "print(type(s))\n",
    "print(s[2:2])         #Empty string\n",
    "print(s[-6:-2])       #Step size 1\n",
    "print(s[-2:-6])       #Empty string"
   ]
  },
  {
   "cell_type": "code",
   "execution_count": null,
   "id": "f08e6457",
   "metadata": {},
   "outputs": [],
   "source": [
    "# #IF STEP SIZE IS -ve\n",
    "\n",
    "# --> Results move from right to left only.\n",
    "# --> Default lower bound : -1.\n",
    "# --> Default upper bound : -n-1.\n",
    "# --> Upper bound is always smaller then lower bound else empty string.\n",
    "# --> If we add step size in lower bound then value should move towards upper bound if it doesn't happen then we get the \n",
    "#     empty output i.e. in case of negative size, upper bound is always smaller then lower bound."
   ]
  },
  {
   "cell_type": "code",
   "execution_count": 12,
   "id": "bd32a87f",
   "metadata": {},
   "outputs": [
    {
     "name": "stdout",
     "output_type": "stream",
     "text": [
      "emo\n",
      "mc\n",
      "\n",
      "\n",
      "ocl\n"
     ]
    }
   ],
   "source": [
    "#Example\n",
    "\n",
    "s = \"welcome\"\n",
    "print(s[-1:-4:-1]) \n",
    "print(s[-2:-6:-2])\n",
    "print(s[-6:-2:-1])      #Empty string because upper bound < lowert bound\n",
    "print(s[1:4:-1])        #Empty string because upper bound < lowert bound\n",
    "print(s[4:1:-1])"
   ]
  },
  {
   "cell_type": "code",
   "execution_count": 13,
   "id": "4202f9f6",
   "metadata": {},
   "outputs": [
    {
     "name": "stdout",
     "output_type": "stream",
     "text": [
      "lco\n",
      "\n",
      "moc\n"
     ]
    }
   ],
   "source": [
    "# 4. If we add step size in lower bound then values should move towards upper bound if it doesn't happen the we get empty \n",
    "#output.\n",
    "\n",
    "# 5. In case upper and lower bound are of different signs then we firstly need to convert them into common sign (+ve, -ve).\n",
    "\n",
    "s = \"welcome\"\n",
    "print(s[2:-2:1])   #s[2:5:1]\n",
    "print(s[-2:2:1])   #s[5:2:1]  empty string\n",
    "print(s[-2:2:-1])   #s[5:2:-1]"
   ]
  }
 ],
 "metadata": {
  "kernelspec": {
   "display_name": "Python 3 (ipykernel)",
   "language": "python",
   "name": "python3"
  },
  "language_info": {
   "codemirror_mode": {
    "name": "ipython",
    "version": 3
   },
   "file_extension": ".py",
   "mimetype": "text/x-python",
   "name": "python",
   "nbconvert_exporter": "python",
   "pygments_lexer": "ipython3",
   "version": "3.9.7"
  }
 },
 "nbformat": 4,
 "nbformat_minor": 5
}
