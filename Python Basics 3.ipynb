{
 "cells": [
  {
   "cell_type": "markdown",
   "id": "cd44906b",
   "metadata": {},
   "source": [
    "# Data Types"
   ]
  },
  {
   "cell_type": "code",
   "execution_count": null,
   "id": "9c90ee9b",
   "metadata": {},
   "outputs": [],
   "source": [
    "# 1.Single Element/Single value data types\n",
    "# (i)int: 23,500,20000....\n",
    "# (ii)float: 23.5 5.5,9.999\n",
    "# (iii)complex: 2+3j\n",
    "# (iv)boolean: True,False\n",
    "# (v)None type: none\n",
    "\n",
    "# 2. Multi element/Multi Value Data Types/Iterators/Sequence/Collections\n",
    "# (i)string\n",
    "# (ii)List\n",
    "# (iii)Tupple\n",
    "# (iv)Dictionary\n",
    "# (v)Set\n",
    "# (vi)Frozen set"
   ]
  },
  {
   "cell_type": "markdown",
   "id": "8ea08b7c",
   "metadata": {},
   "source": [
    "# String(str)"
   ]
  },
  {
   "cell_type": "code",
   "execution_count": null,
   "id": "a92cc938",
   "metadata": {},
   "outputs": [],
   "source": [
    "# ---> collection of homogeneous data type i.e. character only.\n",
    "# ---> to put characters inside quotes."
   ]
  },
  {
   "cell_type": "code",
   "execution_count": null,
   "id": "7cfce4db",
   "metadata": {},
   "outputs": [],
   "source": [
    "# 1. Single line string\n",
    "# (i)single quotes\n",
    "# (ii)Double quotes\n",
    "# (iii)Tripple quotes: Triple single quotes/ Triple double quotes"
   ]
  },
  {
   "cell_type": "code",
   "execution_count": 1,
   "id": "b2036efb",
   "metadata": {},
   "outputs": [
    {
     "name": "stdout",
     "output_type": "stream",
     "text": [
      "Hello World\n",
      "Hello world\n",
      "Hello World\n"
     ]
    }
   ],
   "source": [
    "x='Hello World'\n",
    "print(x)\n",
    "x=\"Hello world\"\n",
    "print(x)\n",
    "x=\"\"\"Hello World\"\"\"\n",
    "print(x)"
   ]
  },
  {
   "cell_type": "code",
   "execution_count": null,
   "id": "70d1e3f3",
   "metadata": {},
   "outputs": [],
   "source": [
    "# 2. Multiline Sring\n",
    "# (i)Tripple quotes: Triple single quotes/ Triple double quotes"
   ]
  },
  {
   "cell_type": "code",
   "execution_count": 3,
   "id": "272e7105",
   "metadata": {},
   "outputs": [
    {
     "name": "stdout",
     "output_type": "stream",
     "text": [
      "Hello World\n",
      "Welcome to Python Programming Language\n",
      "Hello World\n",
      "Welcome to Python Programming Language\n"
     ]
    }
   ],
   "source": [
    "x='''Hello World\n",
    "Welcome to Python Programming Language'''\n",
    "print(x)\n",
    "x=\"\"\"Hello World\n",
    "Welcome to Python Programming Language\"\"\"\n",
    "print(x)"
   ]
  },
  {
   "cell_type": "markdown",
   "id": "979b724d",
   "metadata": {},
   "source": [
    "# Memory Location In String"
   ]
  },
  {
   "cell_type": "code",
   "execution_count": null,
   "id": "fdc575a0",
   "metadata": {},
   "outputs": [],
   "source": [
    "# -->ASCII Code: American Standard Code for Information Interchange.\n",
    "# -->ASCII: 8bits: 00000000: 0------11111111: 2**8-1=255\n",
    "# -->256 combination: 0-255\n",
    "\n",
    "# A:65 -------32----------- a:97\n",
    "# B:66                      b:98\n",
    "# C:67                      c:99\n",
    "# .                         .\n",
    "# .                         .\n",
    "# .                         .\n",
    "# .                         .\n",
    "# Z:90                      z:122\n",
    "\n",
    "# -->Python 3.9.7\n",
    "# -->In the year 2008, Python 2 moved to Python 3.\n"
   ]
  },
  {
   "cell_type": "code",
   "execution_count": null,
   "id": "bf339a7d",
   "metadata": {},
   "outputs": [],
   "source": [
    "# -->Unicode Standard:\n",
    "# -->16bit: 0 to 65535"
   ]
  },
  {
   "cell_type": "code",
   "execution_count": null,
   "id": "ee14820f",
   "metadata": {},
   "outputs": [],
   "source": [
    "# -->Ordinary Function (ord function): to convert a charcter to is unicode value.\n",
    "# -->Character Function (chr function): to convert a unicode value to corresponding character"
   ]
  },
  {
   "cell_type": "code",
   "execution_count": 4,
   "id": "7c5f1758",
   "metadata": {},
   "outputs": [
    {
     "name": "stdout",
     "output_type": "stream",
     "text": [
      "65\n",
      "66\n",
      "122\n",
      "86\n",
      "53\n",
      "104\n"
     ]
    }
   ],
   "source": [
    "print(ord(\"A\"))\n",
    "print(ord(\"B\"))\n",
    "print(ord(\"z\"))\n",
    "print(ord(\"V\"))\n",
    "print(ord(\"5\"))\n",
    "print(ord(\"h\"))"
   ]
  },
  {
   "cell_type": "code",
   "execution_count": 5,
   "id": "4969c371",
   "metadata": {},
   "outputs": [
    {
     "name": "stdout",
     "output_type": "stream",
     "text": [
      "क\n",
      "5\n",
      "z\n",
      "V\n"
     ]
    }
   ],
   "source": [
    "print(chr(2325))\n",
    "print(chr(53))\n",
    "print(chr(122))\n",
    "print(chr(86))"
   ]
  },
  {
   "cell_type": "code",
   "execution_count": 6,
   "id": "a7fd9236",
   "metadata": {},
   "outputs": [
    {
     "name": "stdout",
     "output_type": "stream",
     "text": [
      "Enter a capital letter: G\n",
      "The character in lower case is:  g\n"
     ]
    }
   ],
   "source": [
    "# WAP to covert Captal letter to Lower Case Letter.\n",
    "\n",
    "ch=input(\"Enter a capital letter: \")\n",
    "ch=ord(ch)\n",
    "ch=ch+32\n",
    "ch=chr(ch)\n",
    "print(\"The character in lower case is: \", ch)"
   ]
  },
  {
   "cell_type": "markdown",
   "id": "ddca5ea7",
   "metadata": {},
   "source": [
    "# List"
   ]
  },
  {
   "cell_type": "code",
   "execution_count": null,
   "id": "ecdaa459",
   "metadata": {},
   "outputs": [],
   "source": [
    "# -->collection of hetrogeneous data type.\n",
    "# -->Syntax: \n",
    "# List_var=[comma    seperated value/arguments]\n"
   ]
  },
  {
   "cell_type": "code",
   "execution_count": 7,
   "id": "03fc1518",
   "metadata": {},
   "outputs": [
    {
     "name": "stdout",
     "output_type": "stream",
     "text": [
      "[2, 3, 3.5, True, 'World']\n"
     ]
    }
   ],
   "source": [
    "L1=[2,3,3.5,True,\"World\"]\n",
    "print(L1)"
   ]
  },
  {
   "cell_type": "markdown",
   "id": "7d79e296",
   "metadata": {},
   "source": [
    "# Indexing"
   ]
  },
  {
   "cell_type": "code",
   "execution_count": null,
   "id": "9cceaa44",
   "metadata": {},
   "outputs": [],
   "source": [
    "# -->to access particular single element of an iterator/multi element data.\n",
    "# -->to access particular element: var_name[index]"
   ]
  },
  {
   "cell_type": "code",
   "execution_count": 8,
   "id": "fb0c51b5",
   "metadata": {},
   "outputs": [
    {
     "name": "stdout",
     "output_type": "stream",
     "text": [
      "W\n",
      "O\n",
      "D\n"
     ]
    }
   ],
   "source": [
    "s=\"WORLD\"   #0-4 : 5 elements\n",
    "print(s[0])\n",
    "print(s[1])\n",
    "print(s[4])\n"
   ]
  },
  {
   "cell_type": "code",
   "execution_count": null,
   "id": "c7cc0fbc",
   "metadata": {},
   "outputs": [],
   "source": [
    "# --> n elements: +ive index: 0 to n-1\n",
    "# --> n elements: -ive index: -n to -1\n"
   ]
  },
  {
   "cell_type": "code",
   "execution_count": 9,
   "id": "c9a32e77",
   "metadata": {},
   "outputs": [
    {
     "name": "stdout",
     "output_type": "stream",
     "text": [
      "22\n",
      "44\n",
      "55\n"
     ]
    }
   ],
   "source": [
    "l1=[22,33,44,55]\n",
    "print(l1[0])\n",
    "print(l1[2])\n",
    "print(l1[3])"
   ]
  },
  {
   "cell_type": "code",
   "execution_count": 10,
   "id": "e3a2cc6d",
   "metadata": {},
   "outputs": [
    {
     "ename": "IndexError",
     "evalue": "string index out of range",
     "output_type": "error",
     "traceback": [
      "\u001b[1;31m---------------------------------------------------------------------------\u001b[0m",
      "\u001b[1;31mIndexError\u001b[0m                                Traceback (most recent call last)",
      "\u001b[1;32m~\\AppData\\Local\\Temp/ipykernel_20996/4251704065.py\u001b[0m in \u001b[0;36m<module>\u001b[1;34m\u001b[0m\n\u001b[0;32m      2\u001b[0m \u001b[1;33m\u001b[0m\u001b[0m\n\u001b[0;32m      3\u001b[0m \u001b[0ms\u001b[0m\u001b[1;33m=\u001b[0m\u001b[1;34m\"WORLD\"\u001b[0m                 \u001b[1;31m#0-4 indexing\u001b[0m\u001b[1;33m\u001b[0m\u001b[1;33m\u001b[0m\u001b[0m\n\u001b[1;32m----> 4\u001b[1;33m \u001b[0mprint\u001b[0m\u001b[1;33m(\u001b[0m\u001b[0ms\u001b[0m\u001b[1;33m[\u001b[0m\u001b[1;36m5\u001b[0m\u001b[1;33m]\u001b[0m\u001b[1;33m)\u001b[0m\u001b[1;33m\u001b[0m\u001b[1;33m\u001b[0m\u001b[0m\n\u001b[0m",
      "\u001b[1;31mIndexError\u001b[0m: string index out of range"
     ]
    }
   ],
   "source": [
    "# ----> If we pass any out of range index value in case of indexing then there will be index error.\n",
    "\n",
    "s=\"WORLD\"                 #0-4 indexing\n",
    "print(s[5])"
   ]
  },
  {
   "cell_type": "code",
   "execution_count": 11,
   "id": "93c1a33a",
   "metadata": {},
   "outputs": [
    {
     "name": "stdout",
     "output_type": "stream",
     "text": [
      "D\n",
      "W\n",
      "L\n",
      "W\n"
     ]
    }
   ],
   "source": [
    "s=\"WORLD\"\n",
    "print(s[4])\n",
    "print(s[-5])        #for negative index\n",
    "print(s[-2])\n",
    "print(s[0])"
   ]
  },
  {
   "cell_type": "markdown",
   "id": "ffa141f8",
   "metadata": {},
   "source": [
    "# Slicing"
   ]
  },
  {
   "cell_type": "code",
   "execution_count": null,
   "id": "6370646e",
   "metadata": {},
   "outputs": [],
   "source": [
    "# --> to access set of elements from an iterator.\n",
    "# --> var_name[starting_index: end_index]"
   ]
  },
  {
   "cell_type": "code",
   "execution_count": 15,
   "id": "01c95b2a",
   "metadata": {},
   "outputs": [
    {
     "name": "stdout",
     "output_type": "stream",
     "text": [
      "ELC\n",
      "WELCOME\n"
     ]
    }
   ],
   "source": [
    "s=\"WELCOME\"        #0-6 index : 7 elements\n",
    "print(s[1:4]) \n",
    "print(s[0:7])"
   ]
  },
  {
   "cell_type": "code",
   "execution_count": null,
   "id": "24e95739",
   "metadata": {},
   "outputs": [],
   "source": [
    "# --> var_name[lower_bound : Upper_bound]\n",
    "# --> Upper bound is discarded in python in most of the cases and in case of slicing it is discarded."
   ]
  },
  {
   "cell_type": "code",
   "execution_count": 16,
   "id": "bfe98382",
   "metadata": {},
   "outputs": [
    {
     "name": "stdout",
     "output_type": "stream",
     "text": [
      "WELCO\n"
     ]
    }
   ],
   "source": [
    "s=\"WELCOME\"\n",
    "print(s[0:5])"
   ]
  },
  {
   "cell_type": "code",
   "execution_count": 17,
   "id": "01bc86c0",
   "metadata": {},
   "outputs": [
    {
     "name": "stdout",
     "output_type": "stream",
     "text": [
      "LCOME\n"
     ]
    }
   ],
   "source": [
    "# --> in case of slicing if index value i.e. upper bound or lower bound are out\n",
    "#     of range then there won't be any error in program.\n",
    "\n",
    "s=\"WELCOME\"     #0-6\n",
    "print(s[2:8])"
   ]
  },
  {
   "cell_type": "code",
   "execution_count": 18,
   "id": "2b115d62",
   "metadata": {},
   "outputs": [
    {
     "name": "stdout",
     "output_type": "stream",
     "text": [
      "\n"
     ]
    }
   ],
   "source": [
    "#  ----> Empty string\n",
    "\n",
    "s=\"WELCOME\"      #0-6    No output\n",
    "print(s[5:2])"
   ]
  },
  {
   "cell_type": "code",
   "execution_count": 19,
   "id": "7e29ed87",
   "metadata": {},
   "outputs": [
    {
     "name": "stdout",
     "output_type": "stream",
     "text": [
      "[]\n",
      "[]\n"
     ]
    }
   ],
   "source": [
    "#  -->  Empty list\n",
    "\n",
    "l1=[2,3,4,5]          # 0-3\n",
    "print(l1[2:2])\n",
    "print(l1[4:2])"
   ]
  },
  {
   "cell_type": "code",
   "execution_count": null,
   "id": "2976d43b",
   "metadata": {},
   "outputs": [],
   "source": [
    "# ---> In case of +ive step size , upper bound should always be bigger then lower bound then we will get elements at the output\n",
    "#      else there will be empty value of same type."
   ]
  },
  {
   "cell_type": "markdown",
   "id": "bb511124",
   "metadata": {},
   "source": [
    "# Extended Format of Slicing"
   ]
  },
  {
   "cell_type": "code",
   "execution_count": null,
   "id": "1bb7ff73",
   "metadata": {},
   "outputs": [],
   "source": [
    "# ---> var_name[lower_bound : upper_bound : step size]\n",
    "# ---> Default step size is always 1."
   ]
  },
  {
   "cell_type": "code",
   "execution_count": 20,
   "id": "7176f1ce",
   "metadata": {},
   "outputs": [
    {
     "name": "stdout",
     "output_type": "stream",
     "text": [
      "ELCOM\n",
      "ELCOM\n",
      "ELCOM\n",
      "ECM\n",
      "ECM\n",
      "EO\n"
     ]
    }
   ],
   "source": [
    "s=\"WELCOME\"      # 0-6\n",
    "\n",
    "print(s[1:6])\n",
    "print(s[1:6:1])      #s[1], s[2].....s[5]\n",
    "print(s[1:6:])\n",
    "print(s[1:6:2])      #s[1],s[3,],s[5]\n",
    "print(s[1:7:2])      #s[1],s[3],s[5]\n",
    "print(s[1:6:3])      #s[1],s[4]"
   ]
  },
  {
   "cell_type": "code",
   "execution_count": 21,
   "id": "5012394e",
   "metadata": {},
   "outputs": [
    {
     "name": "stdout",
     "output_type": "stream",
     "text": [
      "ECM\n",
      "WLO\n",
      "ECM\n",
      "WLOE\n"
     ]
    }
   ],
   "source": [
    "s=\"WELCOME\"      # 0-6\n",
    "\n",
    "print(s[1:6:2])      #s[1],s[3],s[5]\n",
    "print(s[:6:2])       #s[0],s[2],s[4]\n",
    "print(s[1::2])       #s[1],s[3],s[5]           upper bound 7 discarded\n",
    "print(s[::2])        #s[0],s[2],s[4],s[6]"
   ]
  },
  {
   "cell_type": "code",
   "execution_count": 22,
   "id": "329d9a3f",
   "metadata": {},
   "outputs": [
    {
     "name": "stdout",
     "output_type": "stream",
     "text": [
      "['RAm', 'ANIL', 'LUCKY']\n"
     ]
    }
   ],
   "source": [
    "l1=[\"RAm\",\"SHYAM\",\"ANIL\",\"SONU\",\"LUCKY\"]\n",
    "print(l1[::2])"
   ]
  },
  {
   "cell_type": "code",
   "execution_count": 23,
   "id": "5bdf2082",
   "metadata": {},
   "outputs": [
    {
     "name": "stdout",
     "output_type": "stream",
     "text": [
      "\n",
      "WELCOME\n",
      "WELCOME\n",
      "WLOE\n",
      "ECM\n"
     ]
    }
   ],
   "source": [
    "# --> In case of +ive step size default lower bound will be zero and default upper bound will be n i.e. (elements till the end \n",
    "#     will be retrieved.)\n",
    "\n",
    "s=\"WELCOME\"      # 0-6\n",
    "\n",
    "print(s[5:2:2])    #---> empty string\n",
    "print(s[:])\n",
    "print(s[::])\n",
    "print(s[::2])\n",
    "print(s[1::2])"
   ]
  }
 ],
 "metadata": {
  "kernelspec": {
   "display_name": "Python 3 (ipykernel)",
   "language": "python",
   "name": "python3"
  },
  "language_info": {
   "codemirror_mode": {
    "name": "ipython",
    "version": 3
   },
   "file_extension": ".py",
   "mimetype": "text/x-python",
   "name": "python",
   "nbconvert_exporter": "python",
   "pygments_lexer": "ipython3",
   "version": "3.9.7"
  }
 },
 "nbformat": 4,
 "nbformat_minor": 5
}
